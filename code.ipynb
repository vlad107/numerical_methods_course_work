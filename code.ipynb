{
 "cells": [
  {
   "cell_type": "code",
   "execution_count": 1,
   "metadata": {
    "collapsed": true
   },
   "outputs": [],
   "source": [
    "%matplotlib inline\n",
    "\n",
    "from matplotlib import pyplot as plt\n",
    "from matplotlib import patches as mpatches\n",
    "import numpy as np\n",
    "import pandas as pd\n",
    "import math\n",
    "import sys"
   ]
  },
  {
   "cell_type": "code",
   "execution_count": 2,
   "metadata": {
    "collapsed": true
   },
   "outputs": [],
   "source": [
    "data = pd.read_csv(\"data.csv\", index_col=\"Ind.\", sep=\",\")"
   ]
  },
  {
   "cell_type": "code",
   "execution_count": 69,
   "metadata": {},
   "outputs": [
    {
     "name": "stderr",
     "output_type": "stream",
     "text": [
      "P_a = 100000.000000"
     ]
    }
   ],
   "source": [
    "P_A = 1e5 # atmosphere pressure WARNING (can be not 1e5)\n",
    "\n",
    "def init():\n",
    "    global P_A\n",
    "    sys.stderr.write(\"P_a = %f\" % (P_A))\n",
    "    \n",
    "    x = lambda T: T / 1e4\n",
    "    \n",
    "    data[\"sigmaN2\"] = (data[\"sigma\"] + data[\"sigma\"][\"N2\"]) / 2.0\n",
    "    data[\"epsilonN2\"] = np.sqrt(data[\"epsilon\"] * data[\"epsilon\"][\"N2\"])\n",
    "    data[\"muN2\"] =  2 * data[\"mu\"][\"N2\"] * data[\"mu\"] / (data[\"mu\"][\"N2\"] + data[\"mu\"])\n",
    "    \n",
    "    def generate(subst):\n",
    "        data.loc[subst, \"omega\"] = lambda T: 1.074 * np.power(T / data[\"epsilonN2\"][subst], -0.1604)        \n",
    "        data.loc[subst, \"Phi\"] = lambda T: \\\n",
    "                      data[\"f1\"][subst] \\\n",
    "                    + data[\"f2\"][subst] * np.log(x(T)) \\\n",
    "                    + data[\"f3\"][subst] * np.power(x(T), -2.0) \\\n",
    "                    + data[\"f4\"][subst] * np.power(x(T), -1.0) \\\n",
    "                    + data[\"f5\"][subst] * x(T) \\\n",
    "                    + data[\"f6\"][subst] * np.power(x(T), 2.0) \\\n",
    "                    + data[\"f7\"][subst] * np.power(x(T), 3.0)\n",
    "                    \n",
    "        data.loc[subst, \"G\"] = lambda T: data[\"H(298)\"][subst] - data[\"Phi\"][subst](T) * T\n",
    "        \n",
    "        data.loc[subst, \"D\"] = lambda T: 2.628e-2 * np.power(T, 3.0 / 2.0) / \\\n",
    "                        (P_A * data[\"sigmaN2\"][subst] * data[\"omega\"][subst](T) * np.sqrt(data[\"muN2\"][subst]))\n",
    "            \n",
    "    closure = [generate(subst) for subst in data.index]\n",
    "    \n",
    "init()"
   ]
  },
  {
   "cell_type": "code",
   "execution_count": 10,
   "metadata": {},
   "outputs": [],
   "source": [
    "# Task1\n",
    "# 0 -- AlCl\n",
    "# 1 -- AlCl2\n",
    "# 2 -- AlCl3\n",
    "# 3 -- H2\n",
    "# 4 -- HCl\n",
    "\n",
    "def solve(T):\n",
    "\n",
    "    # 0 :::  (PHCl ** 2) - K0 * (PAlCl ** 2) * PH2 = 0\n",
    "    J[0][0] = lambda x: 0 - 2 * K[0](T) * x[0] * x[3]\n",
    "    J[0][1] = lambda x: 0\n",
    "    J[0][2] = lambda x: 0\n",
    "    J[0][3] = lambda x: 0 - K[0](T) * x[0] * x[0]\n",
    "    J[0][4] = lambda x: 2 * x[4]\n",
    "    \n",
    "    # 1 ::: (PHCl ** 2) - K1 * PAlCl2 * PH2 = 0\n",
    "    J[1][0] = lambda x: 0\n",
    "    J[1][1] = lambda x: 0 - K[1](T) * x[3]\n",
    "    J[1][2] = lambda x: 0\n",
    "    J[1][3] = lambda x: 0 - K[1](T) * x[1]\n",
    "    J[1][4] = lambda x: 2 * x[4]\n",
    "    \n",
    "    # 2 ::: (PHCl ** 6) - K2 * (PAlCl3 ** 2) * (PH2 ** 3)\n",
    "    J[2][0] = lambda x: 0\n",
    "    J[2][1] = lambda x: 0\n",
    "    J[2][2] = lambda x: 0 - 2 * K[2](T) * x[2] * (x[3] ** 3)\n",
    "    J[2][3] = lambda x: 0 - 3 * K[2](T) * (x[2] ** 2) * (x[3] ** 2)\n",
    "    J[2][4] = lambda x: 6 * (x[4] ** 5)\n",
    "    \n",
    "    # 3 ::: DHCl(PgHCl - PeHCl) + 2 * DH2 * (PgH2 - PeH2) = 0\n",
    "    J[3][0] = lambda x: 0\n",
    "    J[3][1] = lambda x: 0\n",
    "    J[3][2] = lambda x: 0\n",
    "    J[3][3] = lambda x: -2 * D[3](T)\n",
    "    J[3][4] = lambda x: -1 * D[4](T)\n",
    "    \n",
    "    # 4 ::: DAlCl(Pg(AlCl) - Pe(AlCl)) \n",
    "    #   + 2 * D(AlCl2)(Pg(AlCl2) - Pe(AlCl2)) \n",
    "    #   + 3 * D(AlCl3) * (Pg(AlCl3) - Pe(AlCl3)) \n",
    "    #   + D(HCl) * (Pg(HCl) - Pe(HCl)) = 0\n",
    "    J[3][0] = lambda x: -D[0](T)\n",
    "    J[3][1] = lambda x: -2 * D[1](T)\n",
    "    J[3][2] = lambda x: -3 * D[2](T)\n",
    "    J[3][3] = lambda x: 0\n",
    "    J[3][4] = lambda x: -D[4](T)\n"
   ]
  },
  {
   "cell_type": "code",
   "execution_count": 39,
   "metadata": {},
   "outputs": [
    {
     "data": {
      "text/plain": [
       "Ind.\n",
       "AlCl     38.674351\n",
       "AlCl2    43.560758\n",
       "AlCl3    46.299864\n",
       "GaCl     44.242680\n",
       "GaCl2    46.720092\n",
       "GaCl3    48.336837\n",
       "NH3      21.183404\n",
       "H2        3.761316\n",
       "HCl      31.683851\n",
       "N2       28.013500\n",
       "Al       27.487817\n",
       "Ga       39.968390\n",
       "AlN      33.280938\n",
       "GaN      41.981330\n",
       "Name: muN2, dtype: float64"
      ]
     },
     "execution_count": 39,
     "metadata": {},
     "output_type": "execute_result"
    }
   ],
   "source": [
    "data[\"muN2\"]"
   ]
  },
  {
   "cell_type": "code",
   "execution_count": 77,
   "metadata": {},
   "outputs": [
    {
     "data": {
      "text/plain": [
       "-116513.70198428207"
      ]
     },
     "execution_count": 77,
     "metadata": {},
     "output_type": "execute_result"
    }
   ],
   "source": [
    "data[\"G\"][\"NH3\"](365)"
   ]
  },
  {
   "cell_type": "code",
   "execution_count": 57,
   "metadata": {},
   "outputs": [
    {
     "data": {
      "text/plain": [
       "1.0158422196040229"
      ]
     },
     "execution_count": 57,
     "metadata": {},
     "output_type": "execute_result"
    }
   ],
   "source": []
  },
  {
   "cell_type": "code",
   "execution_count": 24,
   "metadata": {},
   "outputs": [
    {
     "data": {
      "text/plain": [
       "38.67435135658057"
      ]
     },
     "execution_count": 24,
     "metadata": {},
     "output_type": "execute_result"
    }
   ],
   "source": []
  },
  {
   "cell_type": "code",
   "execution_count": null,
   "metadata": {},
   "outputs": [],
   "source": []
  },
  {
   "cell_type": "code",
   "execution_count": null,
   "metadata": {
    "collapsed": true
   },
   "outputs": [],
   "source": []
  }
 ],
 "metadata": {
  "kernelspec": {
   "display_name": "Python 3",
   "language": "python",
   "name": "python3"
  },
  "language_info": {
   "codemirror_mode": {
    "name": "ipython",
    "version": 3
   },
   "file_extension": ".py",
   "mimetype": "text/x-python",
   "name": "python",
   "nbconvert_exporter": "python",
   "pygments_lexer": "ipython3",
   "version": "3.5.2"
  }
 },
 "nbformat": 4,
 "nbformat_minor": 2
}
